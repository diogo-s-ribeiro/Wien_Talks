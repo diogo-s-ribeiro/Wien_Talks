{
 "cells": [
  {
   "cell_type": "markdown",
   "metadata": {},
   "source": [
    "<span style=\"color:orange;font-size:40px\">**Improve Python speed**</span><br>\n",
    "<span style=\"color:orange;font-size:15px\">**Monday 03.06**</span>"
   ]
  },
  {
   "cell_type": "markdown",
   "metadata": {},
   "source": [
    "&emsp; Python is a cool versatile programming language known for its simplicity, readability, and broad applicability across multiple domains. This makes Python especially useful for rapid development and prototyping. \n",
    "\n",
    "&emsp; However, a big problem with Python is that it is slower than other programming languages, particularly when handling computation-heavy tasks (most of our bioinformatic tasks).\n",
    "\n",
    "&emsp; There are multiple scenarious when speeding the code can be crucial:\n",
    "<br><br>\n",
    "<ul>\n",
    "    <li> <span style=\"color:pink;font-size:15px\"></span> When running heavy tasks that require multiple passes through the code; </li><br>\n",
    "    <li> <span style=\"color:pink;font-size:15px\"></span> When releasing tools for the public (or even indors softwares); </li><br>\n",
    "    <li> <span style=\"color:pink;font-size:15px\"></span> When scaling applications to handle larger datasets or increased user load; </li><br>\n",
    "    <li> <span style=\"color:pink;font-size:15px\"></span> etc. </li><br>\n",
    "</ul>\n",
    "\n",
    "<img src=\"./IMG/Think_Sanic.jpg\" alt=\"HAHA\" width=\"400\"/>\n",
    "\n",
    "<br><br>\n",
    "&emsp; But before we start optimizing all of our code (productive procrastination), we need to first think if it is really necessary. So, <b>DON'T DO IT IF</b>...\n",
    "<br><br>\n",
    "<ul>\n",
    "    <li> <span style=\"color:pink;font-size:15px\"></span> When the code is evolving fast on its application, don't do a premature optimization. This is especially true if maintness is required constantly. Optimization should be the last part; </li><br>\n",
    "    <li> <span style=\"color:pink;font-size:15px\"></span> When the code is very simplistic and you'll not use it again. Why waste a day for a code that can run in 15 min once? </li><br>\n",
    "    <li> <span style=\"color:pink;font-size:15px\"></span> Super complex codes can be hard to fully optimize.  Maybe find bottlenecks on the code and focus on sub-parts of the code. </li><br>\n",
    "    <li> <span style=\"color:pink;font-size:15px\"></span> etc. </li><br>\n",
    "</ul>"
   ]
  },
  {
   "cell_type": "markdown",
   "metadata": {},
   "source": [
    "<span style=\"color:orange;font-size:30px\"><b> Code </b></span><br>\n",
    "<span style=\"color:orange;font-size:18px\"><b> Example 1: Create [x] sequences of size [n] </b></span><br>\n",
    "\n",
    "<span style=\"font-size:18px\"><b> Python </b></span><br>"
   ]
  },
  {
   "cell_type": "code",
   "execution_count": 1,
   "metadata": {},
   "outputs": [],
   "source": [
    "import random"
   ]
  },
  {
   "cell_type": "code",
   "execution_count": 2,
   "metadata": {},
   "outputs": [],
   "source": [
    "# Generates random DNA sequences.\n",
    "def create_seqs_py1(size, number_seqs):\n",
    "    \"\"\"\n",
    "    Parameters:\n",
    "    size        (int): Length of each DNA sequence.\n",
    "    number_seqs (int): Number of DNA sequences to generate.\n",
    "    \n",
    "    Returns:\n",
    "    list: A list of randomly generated DNA sequences.\n",
    "    \"\"\"\n",
    "    \n",
    "    nucleotides = ['A', 'T', 'G', 'C']\n",
    "    sequences = []\n",
    "    \n",
    "    for _ in range(number_seqs):\n",
    "        for _ in range(size):\n",
    "            sequence = ''.join(random.choice(nucleotides))\n",
    "            sequences.append(sequence)\n",
    "    \n",
    "    return sequences"
   ]
  },
  {
   "cell_type": "markdown",
   "metadata": {},
   "source": [
    "<img src=\"IMG/List_comprh.jpg\" alt=\"HAHA\" width=\"400\"/>\n",
    "<br><br>\n",
    "\n",
    "&emsp; Certain features in Python are faster due to their optimized implementation within the Python interpreter. \n",
    "<br><br>\n",
    "<ul>\n",
    "    <li> <span style=\"color:pink;font-size:15px\"></span> List comprehensions: have background C implementation of the underlying loops, resulting in faster execution than loops; </li><br>\n",
    "    <li> <span style=\"color:pink;font-size:15px\"></span> Lambda: require less memory being more efficient with the python interpreter; </li><br>\n",
    "    <li> <span style=\"color:pink;font-size:15px\"></span> Some functions are optimized directly in C. </li><br>\n",
    "</ul>"
   ]
  },
  {
   "cell_type": "code",
   "execution_count": 3,
   "metadata": {},
   "outputs": [],
   "source": [
    "# Generates random DNA sequences.\n",
    "def create_seqs_py2(size, number_seqs):\n",
    "    \"\"\"    \n",
    "    Parameters:\n",
    "    size (int): Length of each DNA sequence.\n",
    "    number_seqs (int): Number of DNA sequences to generate.\n",
    "    \n",
    "    Returns:\n",
    "    list: A list of randomly generated DNA sequences.\n",
    "    \"\"\"\n",
    "    \n",
    "    nucleotides = ['A', 'T', 'G', 'C']\n",
    "    sequences = []\n",
    "    \n",
    "    for _ in range(number_seqs):\n",
    "        sequence = ''.join(random.choice(nucleotides) for _ in range(size))\n",
    "        sequences.append(sequence)\n",
    "    \n",
    "    return sequences"
   ]
  },
  {
   "cell_type": "markdown",
   "metadata": {},
   "source": [
    "<span style=\"font-size:18px\"><b> Numpy </b></span><br>\n",
    "\n",
    "&emsp; It is probably the most used library in Python, and is much more faster than pure Python for NUMERICAL computations, since it uses C under the hood. The big advantage is that it allows you to calculate entire data-sets at the same time instead of having to loop (vectorization).\n",
    "\n",
    "<span style=\"color:pink;font-size:15px\"> &emsp; (a.) It is not as good to deal with strings compared to numbers (ints and floats). </span>\n",
    "\n",
    "<span style=\"color:pink;font-size:15px\"> &emsp; (b.) Might have some initial learning curve because of its specialized functions. </span>\n"
   ]
  },
  {
   "cell_type": "code",
   "execution_count": 4,
   "metadata": {},
   "outputs": [],
   "source": [
    "import numpy as np"
   ]
  },
  {
   "cell_type": "code",
   "execution_count": 5,
   "metadata": {},
   "outputs": [],
   "source": [
    "# Generates random DNA sequences.\n",
    "def create_seqs_np(size, number_seqs):\n",
    "    \"\"\"    \n",
    "    Parameters:\n",
    "    size (int): Length of each DNA sequence.\n",
    "    number_seqs (int): Number of DNA sequences to generate.\n",
    "    \n",
    "    Returns:\n",
    "    list: A list of randomly generated DNA sequences.\n",
    "    \"\"\"\n",
    "    \n",
    "    sequences = np.empty((number_seqs, size), dtype=np.uint8)\n",
    "\n",
    "    for i in range(number_seqs):\n",
    "        sequences[i] = np.random.randint(4, size=size)  # Represent [A, T, G, C] as [0, 1, 2, 3]\n",
    "    \n",
    "    return sequences"
   ]
  },
  {
   "cell_type": "markdown",
   "metadata": {},
   "source": [
    "<span style=\"font-size:18px\"><b> Numba </b></span><br>\n",
    "\n",
    "&emsp; Uses a function decorator (@jit) or (@njit) that transforms Python code into machine code. Most of the speed-up is by specifying the types of the input and output variables.\n",
    "\n",
    "<span style=\"color:pink;font-size:15px\"> &emsp; (a.) DON'T USE @jit. It can make your code slower than normal python. It basically tries to not use Python and when there is an error switches to Python </span>\n",
    "\n",
    "<span style=\"color:pink;font-size:15px\"> &emsp; (b.) Although it has compatibilities with Numpy, some functions and **args don't work. When this happens, it can be very very hard to decode, since the code errors are in Machine Language (binary code). </span>\n",
    "\n",
    "<span style=\"color:pink;font-size:15px\"> &emsp; (c.) Just as Numpy, it works much better when dealing with numbers (int or floats) intead of strings. </span>"
   ]
  },
  {
   "cell_type": "code",
   "execution_count": 165,
   "metadata": {},
   "outputs": [],
   "source": [
    "from numba import njit, uint8, uint64, float32"
   ]
  },
  {
   "cell_type": "code",
   "execution_count": 7,
   "metadata": {},
   "outputs": [],
   "source": [
    "# Generates random DNA sequences.\n",
    "@njit(uint8[:, :](uint64, uint8))\n",
    "def create_seqs_numba(size, number_seqs):\n",
    "    \"\"\"\n",
    "    Parameters:\n",
    "    size (int): Length of each DNA sequence.\n",
    "    number_seqs (int): Number of DNA sequences to generate.\n",
    "    \n",
    "    Returns:\n",
    "    numpy.ndarray: A 2D array of randomly generated DNA sequences.\n",
    "    \"\"\"\n",
    "    \n",
    "    sequences = np.empty((number_seqs, size), dtype=np.uint8)\n",
    "\n",
    "    for i in range(number_seqs):\n",
    "        for j in range(size):\n",
    "            sequences[i, j] = np.random.randint(4)   # Represent [A, T, G, C] as [0, 1, 2, 3]\n",
    "\n",
    "    return sequences"
   ]
  },
  {
   "cell_type": "markdown",
   "metadata": {},
   "source": [
    "<span style=\"font-size:18px\"><b> Cython </b></span><br>\n",
    "\n",
    "&emsp; Compiles Python to C code. Again, it is important to add static variables to accelarate the code.\n",
    "\n",
    "<span style=\"color:pink;font-size:15px\"> &emsp; (a.) Slightly harder to make use of, since it requires to compile the code manually and to change the interpretability of the python code. </span>"
   ]
  },
  {
   "cell_type": "markdown",
   "metadata": {},
   "source": [
    "- Create pyx file\n",
    "\n",
    "- Create setup file\n",
    "\n",
    "- Compile in shell &emsp; <b>python setup.py build_ext --inplace</b>\n",
    "\n",
    "without inplace, the compiled extensions would be placed in a build directory"
   ]
  },
  {
   "cell_type": "code",
   "execution_count": 183,
   "metadata": {},
   "outputs": [],
   "source": [
    "from create_seqs_cy import create_seqs_cython"
   ]
  },
  {
   "cell_type": "markdown",
   "metadata": {},
   "source": [
    "<span style=\"color:lightgreen;font-size:18px\"><b> Benchmarking </b></span><br>"
   ]
  },
  {
   "cell_type": "code",
   "execution_count": 10,
   "metadata": {},
   "outputs": [],
   "source": [
    "import timeit, cProfile, sys\n",
    "\n",
    "# Example usage\n",
    "size = int(1e6)\n",
    "number_seqs = 20"
   ]
  },
  {
   "cell_type": "code",
   "execution_count": 11,
   "metadata": {},
   "outputs": [
    {
     "name": "stdout",
     "output_type": "stream",
     "text": [
      "Time for loci_freqs_py1:  51.287019014002\n",
      "Time for loci_freqs_py2:  35.117029277000256\n",
      "Time for loci_freqs_np:  0.4871021219987597\n",
      "Time for loci_freqs_numba:  0.228818190000311\n",
      "Time for loci_freqs_cy:  2.253771298001084\n"
     ]
    }
   ],
   "source": [
    "# Benchmark\n",
    "time1 = timeit.timeit(lambda: create_seqs_py1(size, number_seqs), number=10)\n",
    "time2 = timeit.timeit(lambda: create_seqs_py2(size, number_seqs), number=10)\n",
    "time3 = timeit.timeit(lambda: create_seqs_np(size, number_seqs), number=10)\n",
    "time4 = timeit.timeit(lambda: create_seqs_numba(size, number_seqs), number=10)\n",
    "time5 = timeit.timeit(lambda: create_seqs_cython(size, number_seqs), number=10)\n",
    "\n",
    "print(\"Time for loci_freqs_py1: \", time1)\n",
    "print(\"Time for loci_freqs_py2: \", time2)\n",
    "print(\"Time for loci_freqs_np: \", time3)\n",
    "print(\"Time for loci_freqs_numba: \", time4)\n",
    "print(\"Time for loci_freqs_cy: \", time5)"
   ]
  },
  {
   "cell_type": "code",
   "execution_count": 67,
   "metadata": {},
   "outputs": [
    {
     "name": "stderr",
     "output_type": "stream",
     "text": [
      "/home/diogo/anaconda3/lib/python3.11/site-packages/seaborn/_oldcore.py:1765: FutureWarning: unique with argument that is not not a Series, Index, ExtensionArray, or np.ndarray is deprecated and will raise in a future version.\n"
     ]
    },
    {
     "data": {
      "image/png": "[encoded data removed]",
      "text/plain": [
       "<Figure size 800x600 with 1 Axes>"
      ]
     },
     "metadata": {},
     "output_type": "display_data"
    }
   ],
   "source": [
    "import seaborn as sns\n",
    "import matplotlib.pyplot as plt\n",
    "sns.set(style=\"whitegrid\", color_codes=True)\n",
    "\n",
    "data = {\n",
    "    'Category' : ['Python1', 'Python2', 'Numpy', 'Numba', 'Cython'],\n",
    "    'Value' : [time1, time2, time3, time4, time5]}\n",
    "\n",
    "# Create a bar plot\n",
    "plt.figure(figsize=(8, 6))\n",
    "bar_plot = sns.barplot(x='Category', y='Value', data=data)\n",
    "\n",
    "# Add title and labels\n",
    "bar_plot.set_title('Python Time')\n",
    "bar_plot.set_xlabel('Category')\n",
    "bar_plot.set_ylabel('Time (s)')\n",
    "\n",
    "# Show the plot\n",
    "plt.show()"
   ]
  },
  {
   "cell_type": "markdown",
   "metadata": {},
   "source": [
    "&emsp; What should I check if I want to just analyze anomalies inside of my functions? I use \"cProfile\"\n",
    "\n",
    "&emsp; <b>ncalls</b> &emsp;&emsp; Check if there is a function that is running much more than normal; \n",
    "\n",
    "&emsp; <b>cumtime</b> &ensp; is the time spent in the function/method including the time spent in the functions/methods that it calls; \n",
    "\n",
    "&emsp; <b>tottime</b> &emsp; is the time spent in the function/method excluding the time spent in the functions/methods that it calls."
   ]
  },
  {
   "cell_type": "code",
   "execution_count": null,
   "metadata": {},
   "outputs": [
    {
     "name": "stdout",
     "output_type": "stream",
     "text": [
      "         160007486 function calls in 36.307 seconds\n",
      "\n",
      "   Ordered by: standard name\n",
      "\n",
      "   ncalls  tottime  percall  cumtime  percall filename:lineno(function)\n",
      " 20000020    6.164    0.000   34.254    0.000 1941032531.py:16(<genexpr>)\n",
      "        1    0.000    0.000   36.307   36.307 1941032531.py:2(create_seqs_py2)\n",
      "        1    0.000    0.000   36.307   36.307 <string>:1(<module>)\n",
      " 20000000   11.135    0.000   15.052    0.000 random.py:235(_randbelow_with_getrandbits)\n",
      " 20000000   10.752    0.000   28.090    0.000 random.py:367(choice)\n",
      "        1    0.000    0.000   36.307   36.307 {built-in method builtins.exec}\n",
      " 40000000    2.286    0.000    2.286    0.000 {built-in method builtins.len}\n",
      "       20    0.000    0.000    0.000    0.000 {method 'append' of 'list' objects}\n",
      " 20000000    1.287    0.000    1.287    0.000 {method 'bit_length' of 'int' objects}\n",
      "        1    0.000    0.000    0.000    0.000 {method 'disable' of '_lsprof.Profiler' objects}\n",
      " 40007422    2.630    0.000    2.630    0.000 {method 'getrandbits' of '_random.Random' objects}\n",
      "       20    2.053    0.103   36.307    1.815 {method 'join' of 'str' objects}\n",
      "\n",
      "\n"
     ]
    }
   ],
   "source": [
    "cProfile.run(\"create_seqs_py2(size, number_seqs)\")"
   ]
  },
  {
   "cell_type": "code",
   "execution_count": 73,
   "metadata": {},
   "outputs": [
    {
     "name": "stdout",
     "output_type": "stream",
     "text": [
      "         3 function calls in 0.337 seconds\n",
      "\n",
      "   Ordered by: standard name\n",
      "\n",
      "   ncalls  tottime  percall  cumtime  percall filename:lineno(function)\n",
      "        1    0.337    0.337    0.337    0.337 <string>:1(<module>)\n",
      "        1    0.000    0.000    0.337    0.337 {built-in method builtins.exec}\n",
      "        1    0.000    0.000    0.000    0.000 {method 'disable' of '_lsprof.Profiler' objects}\n",
      "\n",
      "\n"
     ]
    }
   ],
   "source": [
    "cProfile.run(\"create_seqs_cython(sizne, number_seqs)\")"
   ]
  },
  {
   "cell_type": "markdown",
   "metadata": {},
   "source": [
    "<span style=\"color:orange;font-size:18px\"><b> Example 2: Calculate allele frequency for each loci </b></span><br>\n",
    "\n",
    "<span style=\"font-size:18px\"><b> Python </b></span><br>"
   ]
  },
  {
   "cell_type": "code",
   "execution_count": 78,
   "metadata": {},
   "outputs": [],
   "source": [
    "from collections import Counter\n",
    "import timeit"
   ]
  },
  {
   "cell_type": "code",
   "execution_count": 173,
   "metadata": {},
   "outputs": [],
   "source": [
    "random_seqs1 = create_seqs_py2(size, number_seqs)"
   ]
  },
  {
   "cell_type": "code",
   "execution_count": 174,
   "metadata": {},
   "outputs": [],
   "source": [
    "def loci_freqs_py(population):\n",
    "\n",
    "    num_loci = len(population[0])\n",
    "    allele_counts = [Counter() for _ in range(num_loci)]\n",
    "\n",
    "    for genome in population:\n",
    "        for locus in range(num_loci):\n",
    "            allele_counts[locus][genome[locus]] += 1\n",
    "\n",
    "    total_alleles = len(population)\n",
    "    allele_frequencies = []\n",
    "\n",
    "    for counter in allele_counts:\n",
    "        frequencies = {}\n",
    "        for key, count in counter.items():\n",
    "            frequencies[key] = count / total_alleles\n",
    "        allele_frequencies.append(frequencies)\n",
    "\n",
    "    return allele_frequencies"
   ]
  },
  {
   "cell_type": "markdown",
   "metadata": {},
   "source": [
    "<span style=\"font-size:18px\"><b> Numpy </b></span><br>"
   ]
  },
  {
   "cell_type": "code",
   "execution_count": 110,
   "metadata": {},
   "outputs": [],
   "source": [
    "random_seqs2 = create_seqs_np(size, number_seqs)"
   ]
  },
  {
   "cell_type": "code",
   "execution_count": 155,
   "metadata": {},
   "outputs": [],
   "source": [
    "import numpy as np\n",
    "\n",
    "def loci_freqs_numpy(population):\n",
    "    \n",
    "    allele_freqs = np.empty((4, population.shape[1]))\n",
    "    for i in range(4):\n",
    "        allele_freqs[i] = np.count_nonzero(random_seqs2 == i, axis=0)\n",
    "    \n",
    "    return allele_freqs/population.shape[0]"
   ]
  },
  {
   "cell_type": "code",
   "execution_count": 213,
   "metadata": {},
   "outputs": [
    {
     "data": {
      "text/plain": [
       "array([[0.45, 0.25, 0.2 , ..., 0.25, 0.25, 0.1 ],\n",
       "       [0.2 , 0.15, 0.3 , ..., 0.2 , 0.15, 0.3 ],\n",
       "       [0.25, 0.3 , 0.3 , ..., 0.2 , 0.35, 0.2 ],\n",
       "       [0.1 , 0.3 , 0.2 , ..., 0.35, 0.25, 0.4 ]])"
      ]
     },
     "execution_count": 213,
     "metadata": {},
     "output_type": "execute_result"
    }
   ],
   "source": [
    "loci_freqs_numpy(random_seqs2)"
   ]
  },
  {
   "cell_type": "markdown",
   "metadata": {},
   "source": [
    "<span style=\"font-size:18px\"><b> Numba </b></span><br>"
   ]
  },
  {
   "cell_type": "code",
   "execution_count": 166,
   "metadata": {},
   "outputs": [],
   "source": [
    "import numpy as np\n",
    "\n",
    "@njit(float32[:, :](uint8[:, :]))\n",
    "def loci_freqs_numba(population):\n",
    "    \n",
    "    allele_freqs = np.empty((4, population.shape[1]), dtype=float32)\n",
    "    for i in range(4):\n",
    "        allele_freqs[i] = np.count_nonzero(random_seqs2 == i, axis=0)\n",
    "    \n",
    "    return allele_freqs/population.shape[0]"
   ]
  },
  {
   "cell_type": "code",
   "execution_count": 169,
   "metadata": {},
   "outputs": [
    {
     "data": {
      "text/plain": [
       "array([[0.45, 0.25, 0.2 , ..., 0.25, 0.25, 0.1 ],\n",
       "       [0.2 , 0.15, 0.3 , ..., 0.2 , 0.15, 0.3 ],\n",
       "       [0.25, 0.3 , 0.3 , ..., 0.2 , 0.35, 0.2 ],\n",
       "       [0.1 , 0.3 , 0.2 , ..., 0.35, 0.25, 0.4 ]], dtype=float32)"
      ]
     },
     "execution_count": 169,
     "metadata": {},
     "output_type": "execute_result"
    }
   ],
   "source": [
    "loci_freqs_numba(random_seqs2)"
   ]
  },
  {
   "cell_type": "markdown",
   "metadata": {},
   "source": [
    "<span style=\"font-size:18px\"><b> Cython </b></span><br>"
   ]
  },
  {
   "cell_type": "code",
   "execution_count": 196,
   "metadata": {},
   "outputs": [],
   "source": [
    "from loci_freqs_cython import loci_freqs_cython"
   ]
  },
  {
   "cell_type": "code",
   "execution_count": 197,
   "metadata": {},
   "outputs": [
    {
     "data": {
      "text/plain": [
       "array([[0.45, 0.25, 0.2 , ..., 0.25, 0.25, 0.1 ],\n",
       "       [0.2 , 0.15, 0.3 , ..., 0.2 , 0.15, 0.3 ],\n",
       "       [0.25, 0.3 , 0.3 , ..., 0.2 , 0.35, 0.2 ],\n",
       "       [0.1 , 0.3 , 0.2 , ..., 0.35, 0.25, 0.4 ]], dtype=float32)"
      ]
     },
     "execution_count": 197,
     "metadata": {},
     "output_type": "execute_result"
    }
   ],
   "source": [
    "loci_freqs_cython(random_seqs2)"
   ]
  },
  {
   "cell_type": "markdown",
   "metadata": {},
   "source": [
    "<span style=\"color:lightgreen;font-size:18px\"><b> Benchmarking </b></span><br>"
   ]
  },
  {
   "cell_type": "code",
   "execution_count": 201,
   "metadata": {},
   "outputs": [
    {
     "name": "stdout",
     "output_type": "stream",
     "text": [
      "Time for loci_freqs_py:  24.21217782000167\n",
      "Time for loci_freqs_np:  0.586191146998317\n",
      "Time for loci_freqs_numba:  0.5247892460029107\n",
      "Time for loci_freqs_cy:  3.43566003663\n"
     ]
    }
   ],
   "source": [
    "# Benchmark\n",
    "time2 = timeit.timeit(lambda: loci_freqs_py(random_seqs1), number=10)\n",
    "time3 = timeit.timeit(lambda: loci_freqs_numpy(random_seqs2), number=10)\n",
    "time4 = timeit.timeit(lambda: loci_freqs_numba(random_seqs2), number=10)\n",
    "time5 = timeit.timeit(lambda: loci_freqs_cython(random_seqs2), number=10)\n",
    "\n",
    "print(\"Time for loci_freqs_py: \", time2)\n",
    "print(\"Time for loci_freqs_np: \", time3)\n",
    "print(\"Time for loci_freqs_numba: \", time4)\n",
    "print(\"Time for loci_freqs_cy: \", time5)"
   ]
  },
  {
   "cell_type": "code",
   "execution_count": 205,
   "metadata": {},
   "outputs": [
    {
     "name": "stderr",
     "output_type": "stream",
     "text": [
      "/home/diogo/anaconda3/lib/python3.11/site-packages/seaborn/_oldcore.py:1765: FutureWarning: unique with argument that is not not a Series, Index, ExtensionArray, or np.ndarray is deprecated and will raise in a future version.\n"
     ]
    },
    {
     "data": {
      "image/png": "[encoded data removed]",
      "text/plain": [
       "<Figure size 800x600 with 1 Axes>"
      ]
     },
     "metadata": {},
     "output_type": "display_data"
    }
   ],
   "source": [
    "import seaborn as sns\n",
    "import matplotlib.pyplot as plt\n",
    "sns.set(style=\"whitegrid\", color_codes=True)\n",
    "\n",
    "data = {\n",
    "    'Category' : ['Python', 'Numpy', 'Numba', 'Cython'],\n",
    "    'Value' : [time2, time3, time4, time5]}\n",
    "\n",
    "# Create a bar plot\n",
    "plt.figure(figsize=(8, 6))\n",
    "bar_plot = sns.barplot(x='Category', y='Value', data=data)\n",
    "\n",
    "# Add title and labels\n",
    "bar_plot.set_title('Python Time')\n",
    "bar_plot.set_xlabel('Category')\n",
    "bar_plot.set_ylabel('Time (s)')\n",
    "\n",
    "# Show the plot\n",
    "plt.show()"
   ]
  },
  {
   "cell_type": "code",
   "execution_count": 206,
   "metadata": {},
   "outputs": [
    {
     "name": "stderr",
     "output_type": "stream",
     "text": [
      "/home/diogo/anaconda3/lib/python3.11/site-packages/seaborn/_oldcore.py:1765: FutureWarning: unique with argument that is not not a Series, Index, ExtensionArray, or np.ndarray is deprecated and will raise in a future version.\n"
     ]
    },
    {
     "data": {
      "image/png": "[encoded data removed]",
      "text/plain": [
       "<Figure size 800x600 with 1 Axes>"
      ]
     },
     "metadata": {},
     "output_type": "display_data"
    }
   ],
   "source": [
    "import seaborn as sns\n",
    "import matplotlib.pyplot as plt\n",
    "sns.set(style=\"whitegrid\", color_codes=True)\n",
    "\n",
    "data = {\n",
    "    'Category' : ['Python', 'Numpy', 'Numba', 'Cython'],\n",
    "    'Value' : np.log(np.array([time2, time3, time4, time5]))}\n",
    "\n",
    "# Create a bar plot\n",
    "plt.figure(figsize=(8, 6))\n",
    "bar_plot = sns.barplot(x='Category', y='Value', data=data)\n",
    "\n",
    "# Add title and labels\n",
    "bar_plot.set_title('Python Time')\n",
    "bar_plot.set_xlabel('Category')\n",
    "bar_plot.set_ylabel('Time (s)')\n",
    "\n",
    "# Show the plot\n",
    "plt.show()"
   ]
  }
 ],
 "metadata": {
  "kernelspec": {
   "display_name": "base",
   "language": "python",
   "name": "python3"
  },
  "language_info": {
   "codemirror_mode": {
    "name": "ipython",
    "version": 3
   },
   "file_extension": ".py",
   "mimetype": "text/x-python",
   "name": "python",
   "nbconvert_exporter": "python",
   "pygments_lexer": "ipython3",
   "version": "3.11.5"
  }
 },
 "nbformat": 4,
 "nbformat_minor": 2
}
